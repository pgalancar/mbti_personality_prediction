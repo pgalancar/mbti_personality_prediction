{
 "cells": [
  {
   "cell_type": "code",
   "execution_count": 2,
   "metadata": {},
   "outputs": [],
   "source": [
    "import pandas as pd"
   ]
  },
  {
   "cell_type": "code",
   "execution_count": 3,
   "metadata": {},
   "outputs": [
    {
     "data": {
      "text/html": [
       "<div>\n",
       "<style scoped>\n",
       "    .dataframe tbody tr th:only-of-type {\n",
       "        vertical-align: middle;\n",
       "    }\n",
       "\n",
       "    .dataframe tbody tr th {\n",
       "        vertical-align: top;\n",
       "    }\n",
       "\n",
       "    .dataframe thead th {\n",
       "        text-align: right;\n",
       "    }\n",
       "</style>\n",
       "<table border=\"1\" class=\"dataframe\">\n",
       "  <thead>\n",
       "    <tr style=\"text-align: right;\">\n",
       "      <th></th>\n",
       "      <th>type</th>\n",
       "      <th>posts</th>\n",
       "    </tr>\n",
       "  </thead>\n",
       "  <tbody>\n",
       "    <tr>\n",
       "      <th>0</th>\n",
       "      <td>INFJ</td>\n",
       "      <td>'http://www.youtube.com/watch?v=qsXHcwe3krw|||...</td>\n",
       "    </tr>\n",
       "    <tr>\n",
       "      <th>1</th>\n",
       "      <td>ENTP</td>\n",
       "      <td>'I'm finding the lack of me in these posts ver...</td>\n",
       "    </tr>\n",
       "    <tr>\n",
       "      <th>2</th>\n",
       "      <td>INTP</td>\n",
       "      <td>'Good one  _____   https://www.youtube.com/wat...</td>\n",
       "    </tr>\n",
       "    <tr>\n",
       "      <th>3</th>\n",
       "      <td>INTJ</td>\n",
       "      <td>'Dear INTP,   I enjoyed our conversation the o...</td>\n",
       "    </tr>\n",
       "    <tr>\n",
       "      <th>4</th>\n",
       "      <td>ENTJ</td>\n",
       "      <td>'You're fired.|||That's another silly misconce...</td>\n",
       "    </tr>\n",
       "  </tbody>\n",
       "</table>\n",
       "</div>"
      ],
      "text/plain": [
       "   type                                              posts\n",
       "0  INFJ  'http://www.youtube.com/watch?v=qsXHcwe3krw|||...\n",
       "1  ENTP  'I'm finding the lack of me in these posts ver...\n",
       "2  INTP  'Good one  _____   https://www.youtube.com/wat...\n",
       "3  INTJ  'Dear INTP,   I enjoyed our conversation the o...\n",
       "4  ENTJ  'You're fired.|||That's another silly misconce..."
      ]
     },
     "execution_count": 3,
     "metadata": {},
     "output_type": "execute_result"
    }
   ],
   "source": [
    "text_df = pd.read_csv('mbti_1.csv')\n",
    "text_df.head()"
   ]
  },
  {
   "cell_type": "markdown",
   "metadata": {},
   "source": [
    "## text_df Pre-Processing"
   ]
  },
  {
   "cell_type": "code",
   "execution_count": 4,
   "metadata": {},
   "outputs": [],
   "source": [
    "import re\n",
    "import nltk\n",
    "from nltk.corpus import stopwords\n",
    "\n",
    "#Create a function that will remove HTML tags, non-alphanumeric characters, and symbols using regex, and remove stopwords with nltk\n",
    "def clean_text(text):\n",
    "    #Remove HTML tags\n",
    "    ct = re.sub('<.*?>', '', text)\n",
    "    \n",
    "    #Remove non-alphanumeric characters and symbols\n",
    "    ct = re.sub(r'[^a-zA-Z\\s]', '', ct)\n",
    "    \n",
    "    #Convert to lowercase\n",
    "    #ct = ct.lower()\n",
    "    \n",
    "    #Import stop words from the English language\n",
    "    stop_words = set(stopwords.words('english'))\n",
    "    #Tokenize the current review text\n",
    "    words = nltk.word_tokenize(ct)\n",
    "    #Keep word if it's not in stop words that were imported\n",
    "    filtered_words = [word for word in words if word.lower() not in stop_words]\n",
    "    #Return cleaned string\n",
    "    return ' '.join(filtered_words)\n",
    "\n",
    "#Apply the function to each row of the DataFrame to clean the data\n",
    "text_df['posts'] = text_df['posts'].apply(clean_text)\n"
   ]
  },
  {
   "cell_type": "markdown",
   "metadata": {},
   "source": [
    "### Do one-hot encoding to identify if personality type contains I or E (Introvert or Extrovert), N or S, etc."
   ]
  },
  {
   "cell_type": "code",
   "execution_count": 5,
   "metadata": {},
   "outputs": [
    {
     "data": {
      "text/html": [
       "<div>\n",
       "<style scoped>\n",
       "    .dataframe tbody tr th:only-of-type {\n",
       "        vertical-align: middle;\n",
       "    }\n",
       "\n",
       "    .dataframe tbody tr th {\n",
       "        vertical-align: top;\n",
       "    }\n",
       "\n",
       "    .dataframe thead th {\n",
       "        text-align: right;\n",
       "    }\n",
       "</style>\n",
       "<table border=\"1\" class=\"dataframe\">\n",
       "  <thead>\n",
       "    <tr style=\"text-align: right;\">\n",
       "      <th></th>\n",
       "      <th>type</th>\n",
       "      <th>posts</th>\n",
       "      <th>IE</th>\n",
       "      <th>NS</th>\n",
       "      <th>FT</th>\n",
       "      <th>JP</th>\n",
       "    </tr>\n",
       "  </thead>\n",
       "  <tbody>\n",
       "    <tr>\n",
       "      <th>0</th>\n",
       "      <td>INFJ</td>\n",
       "      <td>httpwwwyoutubecomwatchvqsXHcwekrwhttpmediatumb...</td>\n",
       "      <td>0</td>\n",
       "      <td>0</td>\n",
       "      <td>0</td>\n",
       "      <td>0</td>\n",
       "    </tr>\n",
       "    <tr>\n",
       "      <th>1</th>\n",
       "      <td>ENTP</td>\n",
       "      <td>Im finding lack posts alarmingSex boring posit...</td>\n",
       "      <td>1</td>\n",
       "      <td>0</td>\n",
       "      <td>1</td>\n",
       "      <td>1</td>\n",
       "    </tr>\n",
       "    <tr>\n",
       "      <th>2</th>\n",
       "      <td>INTP</td>\n",
       "      <td>Good one httpswwwyoutubecomwatchvfHiGbolFFGwOf...</td>\n",
       "      <td>0</td>\n",
       "      <td>0</td>\n",
       "      <td>1</td>\n",
       "      <td>1</td>\n",
       "    </tr>\n",
       "    <tr>\n",
       "      <th>3</th>\n",
       "      <td>INTJ</td>\n",
       "      <td>Dear INTP enjoyed conversation day Esoteric ga...</td>\n",
       "      <td>0</td>\n",
       "      <td>0</td>\n",
       "      <td>1</td>\n",
       "      <td>0</td>\n",
       "    </tr>\n",
       "    <tr>\n",
       "      <th>4</th>\n",
       "      <td>ENTJ</td>\n",
       "      <td>Youre firedThats another silly misconception a...</td>\n",
       "      <td>1</td>\n",
       "      <td>0</td>\n",
       "      <td>1</td>\n",
       "      <td>0</td>\n",
       "    </tr>\n",
       "  </tbody>\n",
       "</table>\n",
       "</div>"
      ],
      "text/plain": [
       "   type                                              posts  IE  NS  FT  JP\n",
       "0  INFJ  httpwwwyoutubecomwatchvqsXHcwekrwhttpmediatumb...   0   0   0   0\n",
       "1  ENTP  Im finding lack posts alarmingSex boring posit...   1   0   1   1\n",
       "2  INTP  Good one httpswwwyoutubecomwatchvfHiGbolFFGwOf...   0   0   1   1\n",
       "3  INTJ  Dear INTP enjoyed conversation day Esoteric ga...   0   0   1   0\n",
       "4  ENTJ  Youre firedThats another silly misconception a...   1   0   1   0"
      ]
     },
     "execution_count": 5,
     "metadata": {},
     "output_type": "execute_result"
    }
   ],
   "source": [
    "#Function to check for 'I' or 'E'\n",
    "def check_IE(text):\n",
    "    if 'I' in text:\n",
    "        return 0\n",
    "    elif 'E' in text:\n",
    "        return 1\n",
    "\n",
    "#Function to check for 'N' or 'S'\n",
    "def check_NS(text):\n",
    "    if 'N' in text:\n",
    "        return 0\n",
    "    elif 'S' in text:\n",
    "        return 1\n",
    "\n",
    "#Function to check for 'F' or 'T'  \n",
    "def check_FT(text):\n",
    "    if 'F' in text:\n",
    "        return 0\n",
    "    elif 'T' in text:\n",
    "        return 1\n",
    "    \n",
    "#Function to check for 'J' or 'P'\n",
    "def check_JP(text):\n",
    "    if 'J' in text:\n",
    "        return 0\n",
    "    elif 'P' in text:\n",
    "        return 1\n",
    "\n",
    "#Apply the function to the 'type' column\n",
    "text_df['IE'] = text_df['type'].apply(check_IE)\n",
    "text_df['NS'] = text_df['type'].apply(check_NS)\n",
    "text_df['FT'] = text_df['type'].apply(check_FT)\n",
    "text_df['JP'] = text_df['type'].apply(check_JP)\n",
    "\n",
    "text_df.head()"
   ]
  },
  {
   "cell_type": "markdown",
   "metadata": {},
   "source": [
    "## Label each personality type from 0-15"
   ]
  },
  {
   "cell_type": "code",
   "execution_count": 6,
   "metadata": {},
   "outputs": [
    {
     "data": {
      "text/html": [
       "<div>\n",
       "<style scoped>\n",
       "    .dataframe tbody tr th:only-of-type {\n",
       "        vertical-align: middle;\n",
       "    }\n",
       "\n",
       "    .dataframe tbody tr th {\n",
       "        vertical-align: top;\n",
       "    }\n",
       "\n",
       "    .dataframe thead th {\n",
       "        text-align: right;\n",
       "    }\n",
       "</style>\n",
       "<table border=\"1\" class=\"dataframe\">\n",
       "  <thead>\n",
       "    <tr style=\"text-align: right;\">\n",
       "      <th></th>\n",
       "      <th>type</th>\n",
       "      <th>posts</th>\n",
       "      <th>IE</th>\n",
       "      <th>NS</th>\n",
       "      <th>FT</th>\n",
       "      <th>JP</th>\n",
       "    </tr>\n",
       "  </thead>\n",
       "  <tbody>\n",
       "    <tr>\n",
       "      <th>0</th>\n",
       "      <td>12</td>\n",
       "      <td>httpwwwyoutubecomwatchvqsXHcwekrwhttpmediatumb...</td>\n",
       "      <td>0</td>\n",
       "      <td>0</td>\n",
       "      <td>0</td>\n",
       "      <td>0</td>\n",
       "    </tr>\n",
       "    <tr>\n",
       "      <th>1</th>\n",
       "      <td>2</td>\n",
       "      <td>Im finding lack posts alarmingSex boring posit...</td>\n",
       "      <td>1</td>\n",
       "      <td>0</td>\n",
       "      <td>1</td>\n",
       "      <td>1</td>\n",
       "    </tr>\n",
       "    <tr>\n",
       "      <th>2</th>\n",
       "      <td>0</td>\n",
       "      <td>Good one httpswwwyoutubecomwatchvfHiGbolFFGwOf...</td>\n",
       "      <td>0</td>\n",
       "      <td>0</td>\n",
       "      <td>1</td>\n",
       "      <td>1</td>\n",
       "    </tr>\n",
       "    <tr>\n",
       "      <th>3</th>\n",
       "      <td>8</td>\n",
       "      <td>Dear INTP enjoyed conversation day Esoteric ga...</td>\n",
       "      <td>0</td>\n",
       "      <td>0</td>\n",
       "      <td>1</td>\n",
       "      <td>0</td>\n",
       "    </tr>\n",
       "    <tr>\n",
       "      <th>4</th>\n",
       "      <td>10</td>\n",
       "      <td>Youre firedThats another silly misconception a...</td>\n",
       "      <td>1</td>\n",
       "      <td>0</td>\n",
       "      <td>1</td>\n",
       "      <td>0</td>\n",
       "    </tr>\n",
       "  </tbody>\n",
       "</table>\n",
       "</div>"
      ],
      "text/plain": [
       "  type                                              posts  IE  NS  FT  JP\n",
       "0   12  httpwwwyoutubecomwatchvqsXHcwekrwhttpmediatumb...   0   0   0   0\n",
       "1    2  Im finding lack posts alarmingSex boring posit...   1   0   1   1\n",
       "2    0  Good one httpswwwyoutubecomwatchvfHiGbolFFGwOf...   0   0   1   1\n",
       "3    8  Dear INTP enjoyed conversation day Esoteric ga...   0   0   1   0\n",
       "4   10  Youre firedThats another silly misconception a...   1   0   1   0"
      ]
     },
     "execution_count": 6,
     "metadata": {},
     "output_type": "execute_result"
    }
   ],
   "source": [
    "pd.set_option('future.no_silent_downcasting', True)\n",
    "\n",
    "text_df['type'] = text_df['type'].replace(\n",
    "    ['INTP', 'ISTP', 'ENTP', 'ESTP', 'INFP', 'ISFP', 'ENFP', 'ESFP', \n",
    "     'INTJ', 'ISTJ', 'ENTJ', 'ESTJ', 'INFJ', 'ISFJ', 'ENFJ', 'ESFJ'], \n",
    "    [0, 1, 2, 3, 4, 5, 6, 7, 8, 9, 10, 11, 12, 13, 14, 15]\n",
    ")\n",
    "\n",
    "text_df.head()"
   ]
  },
  {
   "cell_type": "markdown",
   "metadata": {},
   "source": [
    "## Separate data into training and testing"
   ]
  },
  {
   "cell_type": "code",
   "execution_count": 7,
   "metadata": {},
   "outputs": [],
   "source": [
    "from sklearn.model_selection import train_test_split\n",
    "#Separate data into train and test\n",
    "#Assuming you want to split into 80% train and 20% test\n",
    "train_df, test_df = train_test_split(text_df, test_size=0.2, random_state=42)\n",
    "\n",
    "#Optional: Reset index if needed\n",
    "train_df = train_df.reset_index(drop=True)\n",
    "test_df = test_df.reset_index(drop=True)"
   ]
  },
  {
   "cell_type": "code",
   "execution_count": 8,
   "metadata": {},
   "outputs": [],
   "source": [
    "train_df.to_csv('train.csv')\n",
    "test_df.to_csv('test.csv')"
   ]
  },
  {
   "cell_type": "markdown",
   "metadata": {},
   "source": [
    "## Feature Engineering with TF-IDF to predict personality type with XGBoost"
   ]
  },
  {
   "cell_type": "code",
   "execution_count": 19,
   "metadata": {},
   "outputs": [
    {
     "name": "stdout",
     "output_type": "stream",
     "text": [
      "Validation Classification Report:\n",
      "              precision    recall  f1-score   support\n",
      "\n",
      "           0       0.67      0.76      0.71       293\n",
      "           1       0.76      0.55      0.64        67\n",
      "           2       0.59      0.56      0.58       135\n",
      "           3       0.62      0.33      0.43        15\n",
      "           4       0.66      0.81      0.73       370\n",
      "           5       0.63      0.45      0.53        53\n",
      "           6       0.62      0.59      0.60       125\n",
      "           7       1.00      0.12      0.22         8\n",
      "           8       0.64      0.67      0.65       193\n",
      "           9       0.80      0.45      0.58        44\n",
      "          10       0.57      0.39      0.46        44\n",
      "          11       0.50      0.14      0.22         7\n",
      "          12       0.62      0.67      0.64       288\n",
      "          13       0.77      0.38      0.51        45\n",
      "          14       0.50      0.12      0.20        41\n",
      "          15       0.33      0.14      0.20         7\n",
      "\n",
      "    accuracy                           0.65      1735\n",
      "   macro avg       0.64      0.45      0.49      1735\n",
      "weighted avg       0.65      0.65      0.63      1735\n",
      "\n"
     ]
    }
   ],
   "source": [
    "from xgboost import XGBClassifier\n",
    "from sklearn.feature_extraction.text import TfidfVectorizer\n",
    "from sklearn.feature_extraction.text import CountVectorizer\n",
    "from sklearn.metrics import classification_report\n",
    "import sklearn.metrics as metrics\n",
    "import pickle\n",
    "\n",
    "#Prepare training data\n",
    "X_train = train_df['posts']\n",
    "y_train = train_df['type']\n",
    "\n",
    "#Prepare testing data\n",
    "X_test = test_df['posts']\n",
    "y_test = test_df['type']\n",
    "\n",
    "#Feature extraction using TF-IDF\n",
    "#Initialize TF-IDF vectorizer assigning number of max features\n",
    "vectorizer = TfidfVectorizer(max_features=10000)\n",
    "\n",
    "#Fit and transform training data\n",
    "X_train_tfidf = vectorizer.fit_transform(X_train)\n",
    "\n",
    "#Transform validation data\n",
    "X_test_tfidf = vectorizer.transform(X_test)\n",
    "\n",
    "#Initialize XGBoost classifier\n",
    "xgb_model = XGBClassifier()\n",
    "\n",
    "# Train the classifier on the entire training dataset\n",
    "xgb_model.fit(X_train_tfidf, y_train)\n",
    "\n",
    "# Save the model to a file using pickle\n",
    "with open('xgboost_model.pkl', 'wb') as model_file:\n",
    "    pickle.dump(xgb_model, model_file)\n",
    "    \n",
    "with open('tfidf_vectorizer.pkl', 'wb') as vectorizer_file:\n",
    "    pickle.dump(vectorizer, vectorizer_file)\n",
    "\n",
    "# Load the model from the file\n",
    "with open('xgboost_model.pkl', 'rb') as model_file:\n",
    "    loaded_model = pickle.load(model_file)\n",
    "\n",
    "# Use the loaded model to make predictions\n",
    "y_pred = loaded_model.predict(X_test_tfidf)\n",
    "\n",
    "y_test = y_test.astype(int)\n",
    "y_pred = y_pred.astype(int)\n",
    "\n",
    "# Evaluate model performance on validation data\n",
    "print(\"Validation Classification Report:\")\n",
    "print(classification_report(y_test, y_pred))"
   ]
  },
  {
   "cell_type": "code",
   "execution_count": 16,
   "metadata": {},
   "outputs": [
    {
     "name": "stdout",
     "output_type": "stream",
     "text": [
      "Validation Classification Report:\n",
      "              precision    recall  f1-score   support\n",
      "\n",
      "           0       0.67      0.76      0.71       293\n",
      "           1       0.76      0.55      0.64        67\n",
      "           2       0.59      0.56      0.58       135\n",
      "           3       0.62      0.33      0.43        15\n",
      "           4       0.66      0.81      0.73       370\n",
      "           5       0.63      0.45      0.53        53\n",
      "           6       0.62      0.59      0.60       125\n",
      "           7       1.00      0.12      0.22         8\n",
      "           8       0.64      0.67      0.65       193\n",
      "           9       0.80      0.45      0.58        44\n",
      "          10       0.57      0.39      0.46        44\n",
      "          11       0.50      0.14      0.22         7\n",
      "          12       0.62      0.67      0.64       288\n",
      "          13       0.77      0.38      0.51        45\n",
      "          14       0.50      0.12      0.20        41\n",
      "          15       0.33      0.14      0.20         7\n",
      "\n",
      "    accuracy                           0.65      1735\n",
      "   macro avg       0.64      0.45      0.49      1735\n",
      "weighted avg       0.65      0.65      0.63      1735\n",
      "\n"
     ]
    }
   ],
   "source": [
    "from xgboost import XGBClassifier\n",
    "from sklearn.feature_extraction.text import TfidfVectorizer\n",
    "from sklearn.feature_extraction.text import CountVectorizer\n",
    "from sklearn.metrics import classification_report\n",
    "import sklearn.metrics as metrics\n",
    "import pickle\n",
    "\n",
    "# Load the model from the file\n",
    "with open('xgboost_model.pkl', 'rb') as model_file:\n",
    "    loaded_model = pickle.load(model_file)\n",
    "\n",
    "with open('tfidf_vectorizer.pkl', 'rb') as vectorizer_file:\n",
    "    loaded_vectorizer = pickle.load(vectorizer_file)\n",
    "    \n",
    "#Prepare testing data\n",
    "X_test = test_df['posts']\n",
    "\n",
    "y_test = test_df['type']\n",
    "\n",
    "# Feature extraction using TF-IDF (using the same fitted vectorizer)\n",
    "X_test_tfidf = loaded_vectorizer.transform(X_test)\n",
    "\n",
    "# Use the loaded model to make predictions\n",
    "y_pred = loaded_model.predict(X_test_tfidf)\n",
    "\n",
    "y_test = y_test.astype(int)\n",
    "y_pred = y_pred.astype(int)\n",
    "\n",
    "# Evaluate model performance on validation data\n",
    "print(\"Validation Classification Report:\")\n",
    "print(classification_report(y_test, y_pred))"
   ]
  },
  {
   "cell_type": "markdown",
   "metadata": {},
   "source": [
    "## Predict each of the four categories separately"
   ]
  },
  {
   "cell_type": "code",
   "execution_count": null,
   "metadata": {},
   "outputs": [
    {
     "name": "stdout",
     "output_type": "stream",
     "text": [
      "Validation Classification Report for IE:\n",
      "              precision    recall  f1-score   support\n",
      "\n",
      "           0       0.87      0.95      0.91      1353\n",
      "           1       0.73      0.50      0.59       382\n",
      "\n",
      "    accuracy                           0.85      1735\n",
      "   macro avg       0.80      0.72      0.75      1735\n",
      "weighted avg       0.84      0.85      0.84      1735\n",
      "\n",
      "Validation Classification Report for NS:\n",
      "              precision    recall  f1-score   support\n",
      "\n",
      "           0       0.91      0.98      0.94      1489\n",
      "           1       0.79      0.38      0.51       246\n",
      "\n",
      "    accuracy                           0.90      1735\n",
      "   macro avg       0.85      0.68      0.73      1735\n",
      "weighted avg       0.89      0.90      0.88      1735\n",
      "\n",
      "Validation Classification Report for FT:\n",
      "              precision    recall  f1-score   support\n",
      "\n",
      "           0       0.83      0.84      0.84       937\n",
      "           1       0.81      0.80      0.81       798\n",
      "\n",
      "    accuracy                           0.82      1735\n",
      "   macro avg       0.82      0.82      0.82      1735\n",
      "weighted avg       0.82      0.82      0.82      1735\n",
      "\n",
      "Validation Classification Report for JP:\n",
      "              precision    recall  f1-score   support\n",
      "\n",
      "           0       0.77      0.64      0.70       669\n",
      "           1       0.80      0.88      0.84      1066\n",
      "\n",
      "    accuracy                           0.79      1735\n",
      "   macro avg       0.78      0.76      0.77      1735\n",
      "weighted avg       0.79      0.79      0.78      1735\n",
      "\n"
     ]
    }
   ],
   "source": [
    "from xgboost import XGBClassifier\n",
    "from sklearn.feature_extraction.text import TfidfVectorizer\n",
    "from sklearn.metrics import classification_report\n",
    "import pandas as pd\n",
    "\n",
    "#Columns 'IE', 'NS', 'FT', and 'JP' are your target columns\n",
    "target_columns = ['IE', 'NS', 'FT', 'JP']\n",
    "\n",
    "#Initialize TF-IDF vectorizer\n",
    "vectorizer = TfidfVectorizer(max_features=10000)\n",
    "\n",
    "#Prepare training data\n",
    "X_train = train_df['posts']\n",
    "X_test = test_df['posts']\n",
    "\n",
    "#Fit and transform training data\n",
    "X_train_tfidf = vectorizer.fit_transform(X_train)\n",
    "\n",
    "#Transform testing data\n",
    "X_test_tfidf = vectorizer.transform(X_test)\n",
    "\n",
    "#Loop over each target column to train and evaluate a classifier\n",
    "for target in target_columns:\n",
    "    y_train = train_df[target]\n",
    "    y_test = test_df[target]\n",
    "    \n",
    "    #Initialize XGBoost classifier\n",
    "    xgb_model = XGBClassifier()\n",
    "    \n",
    "    #Train the classifier on the training data\n",
    "    xgb_model.fit(X_train_tfidf, y_train)\n",
    "    \n",
    "    #Predictions on the test data\n",
    "    y_pred = xgb_model.predict(X_test_tfidf)\n",
    "    \n",
    "    #Evaluate model performance on the test data\n",
    "    print(f\"Validation Classification Report for {target}:\")\n",
    "    print(classification_report(y_test, y_pred))"
   ]
  },
  {
   "cell_type": "markdown",
   "metadata": {},
   "source": [
    "## Using the 10%-70% rule for the TF-IDF"
   ]
  },
  {
   "cell_type": "code",
   "execution_count": null,
   "metadata": {},
   "outputs": [
    {
     "name": "stdout",
     "output_type": "stream",
     "text": [
      "Validation Classification Report for IE:\n",
      "              precision    recall  f1-score   support\n",
      "\n",
      "           0       0.87      0.95      0.91      1353\n",
      "           1       0.72      0.50      0.59       382\n",
      "\n",
      "    accuracy                           0.85      1735\n",
      "   macro avg       0.80      0.72      0.75      1735\n",
      "weighted avg       0.84      0.85      0.84      1735\n",
      "\n",
      "Validation Classification Report for NS:\n",
      "              precision    recall  f1-score   support\n",
      "\n",
      "           0       0.90      0.99      0.94      1489\n",
      "           1       0.81      0.34      0.48       246\n",
      "\n",
      "    accuracy                           0.90      1735\n",
      "   macro avg       0.85      0.66      0.71      1735\n",
      "weighted avg       0.89      0.90      0.88      1735\n",
      "\n",
      "Validation Classification Report for FT:\n",
      "              precision    recall  f1-score   support\n",
      "\n",
      "           0       0.82      0.83      0.83       937\n",
      "           1       0.80      0.79      0.79       798\n",
      "\n",
      "    accuracy                           0.81      1735\n",
      "   macro avg       0.81      0.81      0.81      1735\n",
      "weighted avg       0.81      0.81      0.81      1735\n",
      "\n",
      "Validation Classification Report for JP:\n",
      "              precision    recall  f1-score   support\n",
      "\n",
      "           0       0.76      0.64      0.69       669\n",
      "           1       0.79      0.87      0.83      1066\n",
      "\n",
      "    accuracy                           0.78      1735\n",
      "   macro avg       0.78      0.76      0.76      1735\n",
      "weighted avg       0.78      0.78      0.78      1735\n",
      "\n"
     ]
    }
   ],
   "source": [
    "from xgboost import XGBClassifier\n",
    "from sklearn.feature_extraction.text import TfidfVectorizer\n",
    "from sklearn.metrics import classification_report\n",
    "import pandas as pd\n",
    "\n",
    "#Columns 'IE', 'NS', 'FT', and 'JP' are your target columns\n",
    "target_columns = ['IE', 'NS', 'FT', 'JP']\n",
    "\n",
    "#Initialize TF-IDF vectorizer with 10-70% rule\n",
    "vectorizer = TfidfVectorizer(max_features=10000, min_df=0.1, max_df=0.7)\n",
    "\n",
    "#Prepare training data\n",
    "X_train = train_df['posts']\n",
    "X_test = test_df['posts']\n",
    "\n",
    "#Fit and transform training data\n",
    "X_train_tfidf = vectorizer.fit_transform(X_train)\n",
    "\n",
    "#Transform testing data\n",
    "X_test_tfidf = vectorizer.transform(X_test)\n",
    "\n",
    "#Loop over each target column to train and evaluate a classifier\n",
    "for target in target_columns:\n",
    "    y_train = train_df[target]\n",
    "    y_test = test_df[target]\n",
    "    \n",
    "    #Initialize XGBoost classifier\n",
    "    xgb_model = XGBClassifier()\n",
    "    \n",
    "    #Train the classifier on the training data\n",
    "    xgb_model.fit(X_train_tfidf, y_train)\n",
    "    \n",
    "    #Predictions on the test data\n",
    "    y_pred = xgb_model.predict(X_test_tfidf)\n",
    "    \n",
    "    #Evaluate model performance on the test data\n",
    "    print(f\"Validation Classification Report for {target}:\")\n",
    "    print(classification_report(y_test, y_pred))\n"
   ]
  },
  {
   "cell_type": "markdown",
   "metadata": {},
   "source": [
    "## Bring LLM to the task"
   ]
  },
  {
   "cell_type": "code",
   "execution_count": 7,
   "metadata": {},
   "outputs": [
    {
     "data": {
      "text/html": [
       "<div>\n",
       "<style scoped>\n",
       "    .dataframe tbody tr th:only-of-type {\n",
       "        vertical-align: middle;\n",
       "    }\n",
       "\n",
       "    .dataframe tbody tr th {\n",
       "        vertical-align: top;\n",
       "    }\n",
       "\n",
       "    .dataframe thead th {\n",
       "        text-align: right;\n",
       "    }\n",
       "</style>\n",
       "<table border=\"1\" class=\"dataframe\">\n",
       "  <thead>\n",
       "    <tr style=\"text-align: right;\">\n",
       "      <th></th>\n",
       "      <th>type</th>\n",
       "      <th>posts</th>\n",
       "      <th>IE</th>\n",
       "      <th>NS</th>\n",
       "      <th>FT</th>\n",
       "      <th>JP</th>\n",
       "    </tr>\n",
       "  </thead>\n",
       "  <tbody>\n",
       "    <tr>\n",
       "      <th>0</th>\n",
       "      <td>1</td>\n",
       "      <td>lie avoid unreasonable response something comp...</td>\n",
       "      <td>0</td>\n",
       "      <td>0</td>\n",
       "      <td>1</td>\n",
       "      <td>1</td>\n",
       "    </tr>\n",
       "    <tr>\n",
       "      <th>1</th>\n",
       "      <td>9</td>\n",
       "      <td>said zero flexibility little time dating Going...</td>\n",
       "      <td>0</td>\n",
       "      <td>0</td>\n",
       "      <td>1</td>\n",
       "      <td>0</td>\n",
       "    </tr>\n",
       "    <tr>\n",
       "      <th>2</th>\n",
       "      <td>1</td>\n",
       "      <td>written bias something Im sure could even say ...</td>\n",
       "      <td>0</td>\n",
       "      <td>0</td>\n",
       "      <td>1</td>\n",
       "      <td>1</td>\n",
       "    </tr>\n",
       "    <tr>\n",
       "      <th>3</th>\n",
       "      <td>7</td>\n",
       "      <td>HAuhuHAuh might right Muhicz Im wondering step...</td>\n",
       "      <td>1</td>\n",
       "      <td>0</td>\n",
       "      <td>0</td>\n",
       "      <td>1</td>\n",
       "    </tr>\n",
       "    <tr>\n",
       "      <th>4</th>\n",
       "      <td>11</td>\n",
       "      <td>parents kind go college good job people want s...</td>\n",
       "      <td>1</td>\n",
       "      <td>0</td>\n",
       "      <td>1</td>\n",
       "      <td>0</td>\n",
       "    </tr>\n",
       "  </tbody>\n",
       "</table>\n",
       "</div>"
      ],
      "text/plain": [
       "  type                                              posts  IE  NS  FT  JP\n",
       "0    1  lie avoid unreasonable response something comp...   0   0   1   1\n",
       "1    9  said zero flexibility little time dating Going...   0   0   1   0\n",
       "2    1  written bias something Im sure could even say ...   0   0   1   1\n",
       "3    7  HAuhuHAuh might right Muhicz Im wondering step...   1   0   0   1\n",
       "4   11  parents kind go college good job people want s...   1   0   1   0"
      ]
     },
     "execution_count": 7,
     "metadata": {},
     "output_type": "execute_result"
    }
   ],
   "source": [
    "test_df['type'] = test_df['type'] + 1\n",
    "test_df.head()"
   ]
  },
  {
   "cell_type": "code",
   "execution_count": 8,
   "metadata": {},
   "outputs": [
    {
     "data": {
      "text/plain": [
       "AlbertForSequenceClassification(\n",
       "  (albert): AlbertModel(\n",
       "    (embeddings): AlbertEmbeddings(\n",
       "      (word_embeddings): Embedding(30000, 128, padding_idx=0)\n",
       "      (position_embeddings): Embedding(512, 128)\n",
       "      (token_type_embeddings): Embedding(2, 128)\n",
       "      (LayerNorm): LayerNorm((128,), eps=1e-12, elementwise_affine=True)\n",
       "      (dropout): Dropout(p=0, inplace=False)\n",
       "    )\n",
       "    (encoder): AlbertTransformer(\n",
       "      (embedding_hidden_mapping_in): Linear(in_features=128, out_features=768, bias=True)\n",
       "      (albert_layer_groups): ModuleList(\n",
       "        (0): AlbertLayerGroup(\n",
       "          (albert_layers): ModuleList(\n",
       "            (0): AlbertLayer(\n",
       "              (full_layer_layer_norm): LayerNorm((768,), eps=1e-12, elementwise_affine=True)\n",
       "              (attention): AlbertAttention(\n",
       "                (query): Linear(in_features=768, out_features=768, bias=True)\n",
       "                (key): Linear(in_features=768, out_features=768, bias=True)\n",
       "                (value): Linear(in_features=768, out_features=768, bias=True)\n",
       "                (attention_dropout): Dropout(p=0, inplace=False)\n",
       "                (output_dropout): Dropout(p=0, inplace=False)\n",
       "                (dense): Linear(in_features=768, out_features=768, bias=True)\n",
       "                (LayerNorm): LayerNorm((768,), eps=1e-12, elementwise_affine=True)\n",
       "              )\n",
       "              (ffn): Linear(in_features=768, out_features=3072, bias=True)\n",
       "              (ffn_output): Linear(in_features=3072, out_features=768, bias=True)\n",
       "              (activation): NewGELUActivation()\n",
       "              (dropout): Dropout(p=0, inplace=False)\n",
       "            )\n",
       "          )\n",
       "        )\n",
       "      )\n",
       "    )\n",
       "    (pooler): Linear(in_features=768, out_features=768, bias=True)\n",
       "    (pooler_activation): Tanh()\n",
       "  )\n",
       "  (dropout): Dropout(p=0.1, inplace=False)\n",
       "  (classifier): Linear(in_features=768, out_features=16, bias=True)\n",
       ")"
      ]
     },
     "execution_count": 8,
     "metadata": {},
     "output_type": "execute_result"
    }
   ],
   "source": [
    "# Load model directly\n",
    "from transformers import AutoTokenizer, AutoModelForSequenceClassification\n",
    "import torch\n",
    "import torch.nn.functional as F\n",
    "\n",
    "tokenizer = AutoTokenizer.from_pretrained(\"JanSt/albert-base-v2_mbti-classification\")\n",
    "#model = AutoModelForSequenceClassification.from_pretrained(\"JanSt/albert-base-v2_mbti-classification\")\n",
    "model = torch.load('albertV1.pth')\n",
    "\n",
    "device = torch.device(\"cuda\" if torch.cuda.is_available() else \"cpu\")\n",
    "model.to(device)"
   ]
  },
  {
   "cell_type": "markdown",
   "metadata": {},
   "source": [
    "### Sample as to how the model predicts"
   ]
  },
  {
   "cell_type": "code",
   "execution_count": 9,
   "metadata": {},
   "outputs": [
    {
     "name": "stdout",
     "output_type": "stream",
     "text": [
      "INTP: 2.99%\n",
      "ISTP: 0.58%\n",
      "ENTP: 0.90%\n",
      "ESTP: 0.17%\n",
      "INFP: 35.76%\n",
      "ISFP: 6.67%\n",
      "ENFP: 14.21%\n",
      "ESFP: 0.20%\n",
      "INTJ: 9.28%\n",
      "ISTJ: 2.45%\n",
      "ENTJ: 0.70%\n",
      "ESTJ: 0.26%\n",
      "INFJ: 23.04%\n",
      "ISFJ: 1.90%\n",
      "ENFJ: 0.75%\n",
      "ESFJ: 0.14%\n",
      "Predicted Personality Type Index: 4\n"
     ]
    }
   ],
   "source": [
    "# List of personality types in the order corresponding to the indices\n",
    "personality_types = ['INTP', 'ISTP', 'ENTP', 'ESTP', 'INFP', 'ISFP', 'ENFP', 'ESFP', \n",
    "                     'INTJ', 'ISTJ', 'ENTJ', 'ESTJ', 'INFJ', 'ISFJ', 'ENFJ', 'ESFJ']\n",
    "\n",
    "# Encode the input text\n",
    "tokens = tokenizer.encode(r\"I am introverted and rarely talk to people.\", return_tensors='pt').to(device)\n",
    "\n",
    "# Get the model's output\n",
    "result = model(tokens)\n",
    "\n",
    "# Apply softmax to get probabilities\n",
    "probabilities = F.softmax(result.logits, dim=-1)\n",
    "\n",
    "# Convert to percentages\n",
    "percentages = probabilities * 100\n",
    "\n",
    "# Print out the percentages for all classes\n",
    "for idx, percentage in enumerate(percentages[0]):\n",
    "    personality_type = personality_types[idx]\n",
    "    print(f\"{personality_type}: {percentage.item():.2f}%\")\n",
    "\n",
    "# Print the index of the maximum percentage\n",
    "print(f\"Predicted Personality Type Index: {int(torch.argmax(result.logits))}\")"
   ]
  },
  {
   "cell_type": "code",
   "execution_count": 10,
   "metadata": {},
   "outputs": [
    {
     "name": "stdout",
     "output_type": "stream",
     "text": [
      "              precision    recall  f1-score   support\n",
      "\n",
      "        INTP       0.53      0.40      0.46       293\n",
      "        ISTP       0.44      0.30      0.36        67\n",
      "        ENTP       0.46      0.35      0.39       135\n",
      "        ESTP       0.33      0.07      0.11        15\n",
      "        INFP       0.41      0.59      0.49       370\n",
      "        ISFP       0.00      0.00      0.00        53\n",
      "        ENFP       0.29      0.38      0.33       125\n",
      "        ESFP       0.00      0.00      0.00         8\n",
      "        INTJ       0.32      0.50      0.39       193\n",
      "        ISTJ       0.19      0.20      0.20        44\n",
      "        ENTJ       0.44      0.34      0.38        44\n",
      "        ESTJ       0.00      0.00      0.00         7\n",
      "        INFJ       0.41      0.35      0.38       288\n",
      "        ISFJ       0.44      0.24      0.31        45\n",
      "        ENFJ       0.54      0.17      0.26        41\n",
      "        ESFJ       0.00      0.00      0.00         7\n",
      "\n",
      "    accuracy                           0.40      1735\n",
      "   macro avg       0.30      0.24      0.25      1735\n",
      "weighted avg       0.40      0.40      0.39      1735\n",
      "\n"
     ]
    },
    {
     "name": "stderr",
     "output_type": "stream",
     "text": [
      "c:\\Users\\patog\\miniconda3\\envs\\torchy\\Lib\\site-packages\\sklearn\\metrics\\_classification.py:1509: UndefinedMetricWarning: Precision is ill-defined and being set to 0.0 in labels with no predicted samples. Use `zero_division` parameter to control this behavior.\n",
      "  _warn_prf(average, modifier, f\"{metric.capitalize()} is\", len(result))\n",
      "c:\\Users\\patog\\miniconda3\\envs\\torchy\\Lib\\site-packages\\sklearn\\metrics\\_classification.py:1509: UndefinedMetricWarning: Precision is ill-defined and being set to 0.0 in labels with no predicted samples. Use `zero_division` parameter to control this behavior.\n",
      "  _warn_prf(average, modifier, f\"{metric.capitalize()} is\", len(result))\n",
      "c:\\Users\\patog\\miniconda3\\envs\\torchy\\Lib\\site-packages\\sklearn\\metrics\\_classification.py:1509: UndefinedMetricWarning: Precision is ill-defined and being set to 0.0 in labels with no predicted samples. Use `zero_division` parameter to control this behavior.\n",
      "  _warn_prf(average, modifier, f\"{metric.capitalize()} is\", len(result))\n"
     ]
    }
   ],
   "source": [
    "from sklearn.preprocessing import LabelEncoder\n",
    "from sklearn.metrics import classification_report\n",
    "\n",
    "# Initialize LabelEncoder\n",
    "label_encoder = LabelEncoder()\n",
    "label_encoder.fit(personality_types)  # Fit encoder to personality types\n",
    "\n",
    "# Function for MBTI prediction\n",
    "def mbti_prediction(text):\n",
    "    tokens = tokenizer.encode(text, return_tensors='pt').to(device)\n",
    "    result = model(tokens)\n",
    "    return int(torch.argmax(result.logits))+1\n",
    "\n",
    "# Convert predictions and true labels to integer indices\n",
    "y_pred_LLM = test_df['posts'].apply(lambda x: mbti_prediction(x[:512]))\n",
    "y_test_LLM = test_df['type']\n",
    "\n",
    "# Print the classification report\n",
    "print(classification_report(y_test_LLM.to_list(), y_pred_LLM.to_list(), target_names=personality_types))"
   ]
  },
  {
   "cell_type": "code",
   "execution_count": null,
   "metadata": {},
   "outputs": [
    {
     "name": "stdout",
     "output_type": "stream",
     "text": [
      "DatasetDict({\n",
      "    train: Dataset({\n",
      "        features: ['label', 'text'],\n",
      "        num_rows: 6940\n",
      "    })\n",
      "    test: Dataset({\n",
      "        features: ['label', 'text'],\n",
      "        num_rows: 1735\n",
      "    })\n",
      "})\n"
     ]
    }
   ],
   "source": [
    "import pandas as pd\n",
    "from datasets import DatasetDict, Dataset\n",
    "\n",
    "valid_df = test_df\n",
    "\n",
    "#List of columns to remove\n",
    "columns_to_remove = ['IE', 'NS', 'FT', 'JP']\n",
    "\n",
    "#Remove columns from DataFrame\n",
    "train_df = train_df.drop(columns=columns_to_remove)\n",
    "\n",
    "#Convert pandas DataFrame to Dataset\n",
    "train_dataset = Dataset.from_pandas(train_df)\n",
    "\n",
    "#Rename columns\n",
    "train_dataset = train_dataset.rename_column('posts', 'text')\n",
    "train_dataset = train_dataset.rename_column('type', 'label')\n",
    "\n",
    "valid_df = valid_df.drop(columns=columns_to_remove)\n",
    "\n",
    "#Convert pandas DataFrame to Dataset\n",
    "valid_dataset = Dataset.from_pandas(valid_df)\n",
    "\n",
    "#Rename columns\n",
    "valid_dataset = valid_dataset.rename_column('posts', 'text')\n",
    "valid_dataset = valid_dataset.rename_column('type', 'label')\n",
    "\n",
    "#Create a DatasetDict object\n",
    "dataset = DatasetDict({\n",
    "    'train': train_dataset,\n",
    "    'test': valid_dataset\n",
    "})\n",
    "\n",
    "#Print combined dataset summary\n",
    "print(dataset)"
   ]
  },
  {
   "cell_type": "code",
   "execution_count": null,
   "metadata": {},
   "outputs": [],
   "source": [
    "import evaluate\n",
    "import torch\n",
    "import numpy as np\n",
    "from transformers import TrainingArguments, Trainer"
   ]
  },
  {
   "cell_type": "code",
   "execution_count": null,
   "metadata": {},
   "outputs": [
    {
     "data": {
      "application/vnd.jupyter.widget-view+json": {
       "model_id": "3892b7515aa045fa84988b8efb94cafe",
       "version_major": 2,
       "version_minor": 0
      },
      "text/plain": [
       "Map:   0%|          | 0/6940 [00:00<?, ? examples/s]"
      ]
     },
     "metadata": {},
     "output_type": "display_data"
    },
    {
     "data": {
      "application/vnd.jupyter.widget-view+json": {
       "model_id": "3d509bac5db6466aa5fc8e03e570ea9f",
       "version_major": 2,
       "version_minor": 0
      },
      "text/plain": [
       "Map:   0%|          | 0/1735 [00:00<?, ? examples/s]"
      ]
     },
     "metadata": {},
     "output_type": "display_data"
    },
    {
     "name": "stderr",
     "output_type": "stream",
     "text": [
      "c:\\Users\\patog\\miniconda3\\envs\\torchy\\Lib\\site-packages\\accelerate\\accelerator.py:432: FutureWarning: Passing the following arguments to `Accelerator` is deprecated and will be removed in version 1.0 of Accelerate: dict_keys(['dispatch_batches', 'split_batches', 'even_batches', 'use_seedable_sampler']). Please pass an `accelerate.DataLoaderConfiguration` instead: \n",
      "dataloader_config = DataLoaderConfiguration(dispatch_batches=None, split_batches=False, even_batches=True, use_seedable_sampler=True)\n",
      "  warnings.warn(\n"
     ]
    },
    {
     "data": {
      "application/vnd.jupyter.widget-view+json": {
       "model_id": "972d46d237d24202b18df5cc38b26b3c",
       "version_major": 2,
       "version_minor": 0
      },
      "text/plain": [
       "  0%|          | 0/2604 [00:00<?, ?it/s]"
      ]
     },
     "metadata": {},
     "output_type": "display_data"
    },
    {
     "name": "stdout",
     "output_type": "stream",
     "text": [
      "{'loss': 2.3861, 'grad_norm': 5.999273777008057, 'learning_rate': 4.0399385560675886e-05, 'epoch': 0.58}\n"
     ]
    },
    {
     "data": {
      "application/vnd.jupyter.widget-view+json": {
       "model_id": "d197756108c44df5a9fdc614c4d46ce1",
       "version_major": 2,
       "version_minor": 0
      },
      "text/plain": [
       "  0%|          | 0/217 [00:00<?, ?it/s]"
      ]
     },
     "metadata": {},
     "output_type": "display_data"
    },
    {
     "name": "stdout",
     "output_type": "stream",
     "text": [
      "{'eval_loss': 2.028566360473633, 'eval_accuracy': 0.3648414985590778, 'eval_runtime': 44.5526, 'eval_samples_per_second': 38.943, 'eval_steps_per_second': 4.871, 'epoch': 1.0}\n",
      "{'loss': 2.1822, 'grad_norm': 26.257640838623047, 'learning_rate': 3.079877112135177e-05, 'epoch': 1.15}\n",
      "{'loss': 2.0068, 'grad_norm': 31.12150764465332, 'learning_rate': 2.1198156682027652e-05, 'epoch': 1.73}\n"
     ]
    },
    {
     "data": {
      "application/vnd.jupyter.widget-view+json": {
       "model_id": "5e512eb5403a4f26982253bf2ac9c4ce",
       "version_major": 2,
       "version_minor": 0
      },
      "text/plain": [
       "  0%|          | 0/217 [00:00<?, ?it/s]"
      ]
     },
     "metadata": {},
     "output_type": "display_data"
    },
    {
     "name": "stdout",
     "output_type": "stream",
     "text": [
      "{'eval_loss': 1.8431850671768188, 'eval_accuracy': 0.4449567723342939, 'eval_runtime': 44.8238, 'eval_samples_per_second': 38.707, 'eval_steps_per_second': 4.841, 'epoch': 2.0}\n",
      "{'loss': 1.8417, 'grad_norm': 31.13799476623535, 'learning_rate': 1.1597542242703534e-05, 'epoch': 2.3}\n",
      "{'loss': 1.7305, 'grad_norm': 68.17082977294922, 'learning_rate': 1.996927803379416e-06, 'epoch': 2.88}\n"
     ]
    },
    {
     "data": {
      "application/vnd.jupyter.widget-view+json": {
       "model_id": "f7b4d6d5a06f4dcb87df61c4e77e4f4b",
       "version_major": 2,
       "version_minor": 0
      },
      "text/plain": [
       "  0%|          | 0/217 [00:00<?, ?it/s]"
      ]
     },
     "metadata": {},
     "output_type": "display_data"
    },
    {
     "name": "stdout",
     "output_type": "stream",
     "text": [
      "{'eval_loss': 1.7948306798934937, 'eval_accuracy': 0.45878962536023055, 'eval_runtime': 45.359, 'eval_samples_per_second': 38.25, 'eval_steps_per_second': 4.784, 'epoch': 3.0}\n",
      "{'train_runtime': 2693.6345, 'train_samples_per_second': 7.729, 'train_steps_per_second': 0.967, 'train_loss': 2.0174466497887114, 'epoch': 3.0}\n"
     ]
    }
   ],
   "source": [
    "#Function obtained from: https://huggingface.co/docs/transformers/en/training\n",
    "#Tokenizes each row of the dataset 'text' vector, indicating padding type and truncation.\n",
    "def tokenize_function(examples):\n",
    "    return tokenizer(examples[\"text\"], padding=\"max_length\", truncation=True)\n",
    "\n",
    "#Tokenize data with function defined above\n",
    "tokenized_datasets = dataset.map(tokenize_function, batched=True)\n",
    "\n",
    "#This variable is to monitor evaluation metrics while training and indicating which evaluation strategy which was set to epoch.\n",
    "training_args = TrainingArguments(output_dir=\"test_trainer\", evaluation_strategy=\"epoch\")\n",
    "\n",
    "#Move model and tokenizer to GPU if available (Models takes too much time to train in cpu)\n",
    "device = torch.device(\"cuda\" if torch.cuda.is_available() else \"cpu\")\n",
    "model.to(device)\n",
    "\n",
    "#Function obtained from https://huggingface.co/docs/transformers/en/training\n",
    "#Function to calculate predictions accuracy while training.\n",
    "def compute_metrics(eval_pred):\n",
    "    logits, labels = eval_pred\n",
    "    #Calculate prediction from logits\n",
    "    predictions = np.argmax(logits, axis=-1)\n",
    "    metric = evaluate.load(\"accuracy\")\n",
    "    #Convert the logits to predictions\n",
    "    return metric.compute(predictions=predictions, references=labels)\n",
    "\n",
    "#Create a trainer object which contains the following atributes, model, monitor variable, datasets and evaluation metrics. They were all previously defined.\n",
    "#Function obtained from: https://huggingface.co/docs/transformers/en/training\n",
    "trainer = Trainer(\n",
    "    model=model,\n",
    "    args=training_args,\n",
    "    train_dataset=tokenized_datasets[\"train\"],\n",
    "    eval_dataset=tokenized_datasets[\"test\"],\n",
    "    compute_metrics=compute_metrics,\n",
    ")\n",
    "\n",
    "#Use trainer object to train the model with stablished parameters.\n",
    "trainer.train()\n",
    "\n",
    "torch.save(model, 'albert.pth')"
   ]
  },
  {
   "cell_type": "code",
   "execution_count": null,
   "metadata": {},
   "outputs": [],
   "source": []
  }
 ],
 "metadata": {
  "kernelspec": {
   "display_name": "torchy",
   "language": "python",
   "name": "python3"
  },
  "language_info": {
   "codemirror_mode": {
    "name": "ipython",
    "version": 3
   },
   "file_extension": ".py",
   "mimetype": "text/x-python",
   "name": "python",
   "nbconvert_exporter": "python",
   "pygments_lexer": "ipython3",
   "version": "3.12.2"
  }
 },
 "nbformat": 4,
 "nbformat_minor": 2
}
